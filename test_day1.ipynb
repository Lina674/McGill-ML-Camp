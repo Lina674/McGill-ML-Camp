{
 "cells": [
  {
   "cell_type": "markdown",
   "metadata": {},
   "source": [
    "- ctrnl + enter: run cell\n",
    "- A, B cell above, below\n",
    "- dd delete cell"
   ]
  },
  {
   "cell_type": "code",
   "execution_count": 204,
   "metadata": {},
   "outputs": [],
   "source": [
    "import random"
   ]
  },
  {
   "cell_type": "code",
   "execution_count": 205,
   "metadata": {},
   "outputs": [],
   "source": [
    "def pick_number(msg=True):\n",
    "    random_num = random.randint(1, 100)\n",
    "    if msg:\n",
    "        print(\"A number between 1 and 100 has been selected... try to guess it!\")\n",
    "    return random_num\n",
    "\n",
    "def guess(guess_num, random_num=pick_number(msg=False)):\n",
    "    if guess_num > random_num:\n",
    "        return \"Lower\"\n",
    "    elif guess_num < random_num:\n",
    "        return \"Higher\"\n",
    "    else:\n",
    "        return \"You win!\"\n",
    "    \n",
    "def auto_guesser():\n",
    "    high = 100\n",
    "    low = 0\n",
    "    found = False\n",
    "    count = 0\n",
    "    while not found:\n",
    "        mid = (high + low)//2\n",
    "        # print(mid)\n",
    "        if guess(mid) == \"Lower\":\n",
    "            high = mid - 1\n",
    "            count += 1\n",
    "        elif guess(mid) == \"Higher\":\n",
    "            low = mid + 1\n",
    "            count += 1\n",
    "        else:\n",
    "            found = True\n",
    "    if found:\n",
    "        print(f\"The auto-guesser found the number in {count} tries.\")"
   ]
  },
  {
   "cell_type": "code",
   "execution_count": 206,
   "metadata": {},
   "outputs": [
    {
     "name": "stdout",
     "output_type": "stream",
     "text": [
      "A number between 1 and 100 has been selected... try to guess it!\n",
      "Higher\n",
      "Lower\n"
     ]
    }
   ],
   "source": [
    "pick_number()\n",
    "print(guess(3))\n",
    "print(guess(50))"
   ]
  },
  {
   "cell_type": "code",
   "execution_count": 207,
   "metadata": {},
   "outputs": [
    {
     "name": "stdout",
     "output_type": "stream",
     "text": [
      "A number between 1 and 100 has been selected... try to guess it!\n",
      "The auto-guesser found the number in 5 tries.\n"
     ]
    }
   ],
   "source": [
    "pick_number()\n",
    "auto_guesser()\n"
   ]
  }
 ],
 "metadata": {
  "kernelspec": {
   "display_name": "Python 3",
   "language": "python",
   "name": "python3"
  },
  "language_info": {
   "codemirror_mode": {
    "name": "ipython",
    "version": 3
   },
   "file_extension": ".py",
   "mimetype": "text/x-python",
   "name": "python",
   "nbconvert_exporter": "python",
   "pygments_lexer": "ipython3",
   "version": "3.12.4"
  }
 },
 "nbformat": 4,
 "nbformat_minor": 2
}
